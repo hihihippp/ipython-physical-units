{
 "metadata": {
  "name": ""
 },
 "nbformat": 3,
 "nbformat_minor": 0,
 "worksheets": [
  {
   "cells": [
    {
     "cell_type": "code",
     "collapsed": false,
     "input": [
      "%reload_ext physics_extension"
     ],
     "language": "python",
     "metadata": {
      "run_control": {
       "breakpoint": false
      }
     },
     "outputs": [],
     "prompt_number": 1
    },
    {
     "cell_type": "code",
     "collapsed": false,
     "input": [
      "class UnitError(ValueError):\n",
      "    pass\n"
     ],
     "language": "python",
     "metadata": {
      "run_control": {
       "breakpoint": false
      }
     },
     "outputs": [],
     "prompt_number": 2
    },
    {
     "cell_type": "code",
     "collapsed": false,
     "input": [
      "def Qlinspace(start, stop, num = 50,  endpoint=True, retstep=False):\n",
      "    if not isinstance(start,Quantity) and not isinstance(stop,Quantity):\n",
      "        return numpy.linspace(start, stop, num,  endpoint, retstep)\n",
      "\n",
      "    if isinstance(start,Quantity) and isinstance(stop,Quantity):\n",
      "        if start.base.unit is not stop.base.unit:\n",
      "            raise UnitError(\"Cannot match units\")\n",
      "    \n",
      "    if isinstance(start,Quantity):\n",
      "        start_value = start.value\n",
      "        unit = start.unit\n",
      "    else:\n",
      "        start_value = start\n",
      "\n",
      "    if isinstance(stop,Quantity):\n",
      "        stop_value = stop.value\n",
      "        unit = stop.unit\n",
      "    else:\n",
      "        stop_value = stop\n",
      "\n",
      "    array = numpy.linspace(start_value, stop_value, num,  endpoint, retstep)\n",
      "\n",
      "    if retstep:\n",
      "        return Quantity(array[0], unit), Quantity(array[1], unit)\n",
      "    else:\n",
      "        return array * Quantity(1, unit)\n"
     ],
     "language": "python",
     "metadata": {
      "code_folding": [
       0
      ],
      "run_control": {
       "breakpoint": true
      }
     },
     "outputs": [],
     "prompt_number": 3
    },
    {
     "cell_type": "code",
     "collapsed": false,
     "input": [
      "t=Qlinspace(0,10ms,10)\n",
      "f=1Hz"
     ],
     "language": "python",
     "metadata": {
      "run_control": {
       "breakpoint": false
      }
     },
     "outputs": [],
     "prompt_number": 5
    },
    {
     "cell_type": "code",
     "collapsed": false,
     "input": [
      "a= 1m\n",
      "t * a\n"
     ],
     "language": "python",
     "metadata": {
      "run_control": {
       "breakpoint": false
      }
     },
     "outputs": [
      {
       "metadata": {},
       "output_type": "pyout",
       "prompt_number": 6,
       "text": [
        "array([0 m*ms, 1.1111111 m*ms, 2.2222222 m*ms, 3.3333333 m*ms,\n",
        "       4.4444444 m*ms, 5.5555556 m*ms, 6.6666667 m*ms, 7.7777778 m*ms,\n",
        "       8.8888889 m*ms, 10 m*ms], dtype=object)"
       ]
      }
     ],
     "prompt_number": 6
    },
    {
     "cell_type": "code",
     "collapsed": false,
     "input": [
      "def Q(arr):\n",
      "    return arr.astype(float)"
     ],
     "language": "python",
     "metadata": {
      "run_control": {
       "breakpoint": false
      }
     },
     "outputs": [],
     "prompt_number": 7
    },
    {
     "cell_type": "code",
     "collapsed": false,
     "input": [
      "Q(t)"
     ],
     "language": "python",
     "metadata": {
      "run_control": {
       "breakpoint": false
      }
     },
     "outputs": [
      {
       "metadata": {},
       "output_type": "pyout",
       "prompt_number": 8,
       "text": [
        "array([ 0.        ,  0.00111111,  0.00222222,  0.00333333,  0.00444444,\n",
        "        0.00555556,  0.00666667,  0.00777778,  0.00888889,  0.01      ])"
       ]
      }
     ],
     "prompt_number": 8
    },
    {
     "cell_type": "code",
     "collapsed": false,
     "input": [
      "a"
     ],
     "language": "python",
     "metadata": {
      "run_control": {
       "breakpoint": false
      }
     },
     "outputs": [
      {
       "latex": [
        "1 $m$"
       ],
       "metadata": {},
       "output_type": "pyout",
       "prompt_number": 10,
       "text": [
        "1 m"
       ]
      }
     ],
     "prompt_number": 10
    },
    {
     "cell_type": "code",
     "collapsed": false,
     "input": [
      "deg = Quantity(180/pi,'rad')"
     ],
     "language": "python",
     "metadata": {
      "run_control": {
       "breakpoint": false
      }
     },
     "outputs": [],
     "prompt_number": 11
    },
    {
     "cell_type": "code",
     "collapsed": false,
     "input": [
      "2 deg"
     ],
     "language": "python",
     "metadata": {
      "run_control": {
       "breakpoint": false
      }
     },
     "outputs": [
      {
       "latex": [
        "2 $deg$"
       ],
       "metadata": {},
       "output_type": "pyout",
       "prompt_number": 12,
       "text": [
        "2 deg"
       ]
      }
     ],
     "prompt_number": 12
    },
    {
     "cell_type": "code",
     "collapsed": false,
     "input": [
      "a=1 rad"
     ],
     "language": "python",
     "metadata": {
      "run_control": {
       "breakpoint": false
      }
     },
     "outputs": [],
     "prompt_number": 13
    },
    {
     "cell_type": "code",
     "collapsed": false,
     "input": [
      "a.to('deg')"
     ],
     "language": "python",
     "metadata": {
      "run_control": {
       "breakpoint": false
      }
     },
     "outputs": [
      {
       "latex": [
        "57.29578 $deg$"
       ],
       "metadata": {},
       "output_type": "pyout",
       "prompt_number": 14,
       "text": [
        "57.29578 deg"
       ]
      }
     ],
     "prompt_number": 14
    },
    {
     "cell_type": "code",
     "collapsed": false,
     "input": [
      "sin(1 deg)"
     ],
     "language": "python",
     "metadata": {
      "run_control": {
       "breakpoint": false
      }
     },
     "outputs": [
      {
       "metadata": {},
       "output_type": "pyout",
       "prompt_number": 15,
       "text": [
        "0.01745240643728351"
       ]
      }
     ],
     "prompt_number": 15
    },
    {
     "cell_type": "code",
     "collapsed": false,
     "input": [],
     "language": "python",
     "metadata": {
      "run_control": {
       "breakpoint": false
      }
     },
     "outputs": [],
     "prompt_number": 0
    }
   ],
   "metadata": {}
  }
 ]
}