{
 "metadata": {
  "name": "",
  "signature": "sha256:5e8aab4726bd53b54cbe0a1a2ca838995e22bdb97c4bffd42460539c90f17e0b"
 },
 "nbformat": 3,
 "nbformat_minor": 0,
 "worksheets": [
  {
   "cells": [
    {
     "cell_type": "heading",
     "level": 1,
     "metadata": {},
     "source": [
      "Physics Extension for the IPython Notebook"
     ]
    },
    {
     "cell_type": "markdown",
     "metadata": {},
     "source": [
      "An extension for IPython, especially the IPython Notebook. This extension adds physical units to IPython, allowing calculations to be units-aware. Built-in unit-conversion ensures calulations result in the correct unit.\n",
      "\n",
      "The Github repository for this extension can be found here: https://github.com/juhasch/ipython-physical-units\n",
      "\n",
      "The extension is heavily based on Georg Brandls work: https://bitbucket.org/birkenfeld/ipython-physics"
     ]
    },
    {
     "cell_type": "heading",
     "level": 2,
     "metadata": {},
     "source": [
      "Installation"
     ]
    },
    {
     "cell_type": "code",
     "collapsed": false,
     "input": [
      "%install_ext https://github.com/juhasch/ipython-physical-units/raw/master/physics_extension.py"
     ],
     "language": "python",
     "metadata": {
      "run_control": {
       "breakpoint": false
      }
     },
     "outputs": [
      {
       "output_type": "stream",
       "stream": "stdout",
       "text": [
        "Installed physics_extension.py. To use it, type:\n",
        "  %load_ext physics_extension\n"
       ]
      }
     ],
     "prompt_number": 14
    },
    {
     "cell_type": "heading",
     "level": 2,
     "metadata": {},
     "source": [
      "Loading the Extension"
     ]
    },
    {
     "cell_type": "code",
     "collapsed": false,
     "input": [
      "%load_ext physics_extension"
     ],
     "language": "python",
     "metadata": {
      "run_control": {
       "breakpoint": false
      }
     },
     "outputs": [
      {
       "output_type": "stream",
       "stream": "stdout",
       "text": [
        "The physics_extension extension is already loaded. To reload it, use:\n",
        "  %reload_ext physics_extension\n"
       ]
      }
     ],
     "prompt_number": 16
    },
    {
     "cell_type": "heading",
     "level": 2,
     "metadata": {},
     "source": [
      "Introduction"
     ]
    },
    {
     "cell_type": "markdown",
     "metadata": {},
     "source": [
      "Let's start with a simple example: An object moves 1 meter in 1 second. Calculate the velocity:"
     ]
    },
    {
     "cell_type": "code",
     "collapsed": false,
     "input": [
      "d = 1 m\n",
      "t = 1 s\n",
      "v = d / t\n",
      "print(\"Velocity: %s\" % v)"
     ],
     "language": "python",
     "metadata": {
      "run_control": {
       "breakpoint": false,
       "read_only": false
      }
     },
     "outputs": [
      {
       "output_type": "stream",
       "stream": "stdout",
       "text": [
        "Velocity: 1.0000 m/s\n"
       ]
      }
     ],
     "prompt_number": 17
    },
    {
     "cell_type": "markdown",
     "metadata": {},
     "source": [
      "You can also use the IPython notebook display system to show the value of `v`:"
     ]
    },
    {
     "cell_type": "code",
     "collapsed": false,
     "input": [
      "v"
     ],
     "language": "python",
     "metadata": {
      "run_control": {
       "breakpoint": false,
       "read_only": false
      }
     },
     "outputs": [
      {
       "latex": [
        "1.0000 $m/s$"
       ],
       "metadata": {},
       "output_type": "pyout",
       "prompt_number": 18,
       "text": [
        "1.0000 m/s"
       ]
      }
     ],
     "prompt_number": 18
    },
    {
     "cell_type": "markdown",
     "metadata": {},
     "source": [
      "The value and unit can be accessed using the corresponing properties:"
     ]
    },
    {
     "cell_type": "code",
     "collapsed": false,
     "input": [
      "t.value, t.unit"
     ],
     "language": "python",
     "metadata": {
      "run_control": {
       "breakpoint": false,
       "read_only": false
      }
     },
     "outputs": [
      {
       "metadata": {},
       "output_type": "pyout",
       "prompt_number": 19,
       "text": [
        "(1.0, <PhysicalUnit s>)"
       ]
      }
     ],
     "prompt_number": 19
    },
    {
     "cell_type": "markdown",
     "metadata": {},
     "source": [
      "Another example:"
     ]
    },
    {
     "cell_type": "code",
     "collapsed": false,
     "input": [
      "d = 333 m\n",
      "v = 50 km / (1s)\n",
      "t = d/v\n",
      "t"
     ],
     "language": "python",
     "metadata": {
      "run_control": {
       "breakpoint": false,
       "read_only": false
      }
     },
     "outputs": [
      {
       "latex": [
        "6.6600 $s*m/km$"
       ],
       "metadata": {},
       "output_type": "pyout",
       "prompt_number": 20,
       "text": [
        "6.6600 s*m/km"
       ]
      }
     ],
     "prompt_number": 20
    },
    {
     "cell_type": "markdown",
     "metadata": {},
     "source": [
      "The result does not simplify the units automatically. This can be achieved this way:"
     ]
    },
    {
     "cell_type": "code",
     "collapsed": false,
     "input": [
      "t.base"
     ],
     "language": "python",
     "metadata": {
      "run_control": {
       "breakpoint": false,
       "read_only": false
      }
     },
     "outputs": [
      {
       "latex": [
        "0.0067 $s$"
       ],
       "metadata": {},
       "output_type": "pyout",
       "prompt_number": 21,
       "text": [
        "0.0067 s"
       ]
      }
     ],
     "prompt_number": 21
    },
    {
     "cell_type": "markdown",
     "metadata": {},
     "source": [
      "All units allow scaling prefixes:"
     ]
    },
    {
     "cell_type": "code",
     "collapsed": false,
     "input": [
      "d = 1 nm ; print d\n",
      "d = 1 mm ; print d\n",
      "d = 1 cm ; print d\n",
      "d = 1 km ; print d"
     ],
     "language": "python",
     "metadata": {
      "run_control": {
       "breakpoint": false,
       "read_only": false
      }
     },
     "outputs": [
      {
       "output_type": "stream",
       "stream": "stdout",
       "text": [
        "1.0000 nm\n",
        "1.0000 mm\n",
        "1.0000 cm\n",
        "1.0000 km\n"
       ]
      }
     ],
     "prompt_number": 22
    },
    {
     "cell_type": "markdown",
     "metadata": {},
     "source": [
      "To achieve a desired unit scaling, use the attributes:"
     ]
    },
    {
     "cell_type": "code",
     "collapsed": false,
     "input": [
      "print t.ms\n",
      "print t.ns\n",
      "print t.ps"
     ],
     "language": "python",
     "metadata": {
      "run_control": {
       "breakpoint": false,
       "read_only": false
      }
     },
     "outputs": [
      {
       "output_type": "stream",
       "stream": "stdout",
       "text": [
        "6.6600 ms\n",
        "6660000.0000 ns\n",
        "6660000000.0000 ps\n"
       ]
      }
     ],
     "prompt_number": 23
    },
    {
     "cell_type": "markdown",
     "metadata": {},
     "source": [
      "You can set the number of decimal places using `setprec`"
     ]
    },
    {
     "cell_type": "code",
     "collapsed": false,
     "input": [
      "setprec(2) \n",
      "print t.s\n",
      "setprec(3) \n",
      "print t.s\n",
      "setprec(4) \n",
      "print t.s"
     ],
     "language": "python",
     "metadata": {
      "run_control": {
       "breakpoint": false
      }
     },
     "outputs": [
      {
       "output_type": "stream",
       "stream": "stdout",
       "text": [
        "0.01 s\n",
        "0.007 s\n",
        "0.0067 s\n"
       ]
      }
     ],
     "prompt_number": 24
    },
    {
     "cell_type": "markdown",
     "metadata": {},
     "source": [
      "Units can be mixed with numpy arrays. \n",
      "\n",
      "TODO: The current solution requires using Q(...) to convert back to a numpy array with `dtype=float`"
     ]
    },
    {
     "cell_type": "code",
     "collapsed": false,
     "input": [
      "t = Qlinspace(0,10ms, 10)\n",
      "f = 100 Hz\n",
      "u = sin(2*pi*Q(f*t)) * 1 V\n",
      "t,u"
     ],
     "language": "python",
     "metadata": {
      "run_control": {
       "breakpoint": false,
       "read_only": false
      }
     },
     "outputs": [
      {
       "metadata": {},
       "output_type": "pyout",
       "prompt_number": 28,
       "text": [
        "(array([0.0000 ms, 1.1111 ms, 2.2222 ms, 3.3333 ms, 4.4444 ms, 5.5556 ms,\n",
        "        6.6667 ms, 7.7778 ms, 8.8889 ms, 10.0000 ms], dtype=object),\n",
        " array([0.0000 V, 0.6428 V, 0.9848 V, 0.8660 V, 0.3420 V, -0.3420 V,\n",
        "        -0.8660 V, -0.9848 V, -0.6428 V, -0.0000 V], dtype=object))"
       ]
      }
     ],
     "prompt_number": 28
    },
    {
     "cell_type": "markdown",
     "metadata": {},
     "source": [
      "Also, currently there is no way to prevent `t` from being converted to the base unit of `s` instead of staying with `ms`:"
     ]
    },
    {
     "cell_type": "code",
     "collapsed": false,
     "input": [
      "plot(t,u);"
     ],
     "language": "python",
     "metadata": {
      "run_control": {
       "breakpoint": false,
       "read_only": false
      }
     },
     "outputs": [
      {
       "metadata": {},
       "output_type": "display_data",
       "png": "[encoded data removed]",
       "text": [
        "<matplotlib.figure.Figure at 0x6bb8828>"
       ]
      }
     ],
     "prompt_number": 29
    },
    {
     "cell_type": "code",
     "collapsed": false,
     "input": [],
     "language": "python",
     "metadata": {
      "run_control": {
       "breakpoint": false
      }
     },
     "outputs": []
    }
   ],
   "metadata": {}
  }
 ]
}