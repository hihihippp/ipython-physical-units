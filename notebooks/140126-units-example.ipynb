{
 "metadata": {
  "name": ""
 },
 "nbformat": 3,
 "nbformat_minor": 0,
 "worksheets": [
  {
   "cells": [
    {
     "cell_type": "heading",
     "level": 1,
     "metadata": {},
     "source": [
      "Physics Extension for the IPython Notebook"
     ]
    },
    {
     "cell_type": "markdown",
     "metadata": {},
     "source": [
      "An extension for IPython, especially the IPython Notebook. This extension adds physical units to IPython, allowing calculations to be units-aware. Built-in unit-conversion ensures calulations result in the correct unit.\n",
      "\n",
      "The Github repository for this extension can be found here: https://github.com/juhasch/ipython-physical-units\n",
      "\n",
      "The extension is heavily based on Georg Brandls work: https://bitbucket.org/birkenfeld/ipython-physics"
     ]
    },
    {
     "cell_type": "heading",
     "level": 2,
     "metadata": {},
     "source": [
      "Introduction"
     ]
    },
    {
     "cell_type": "markdown",
     "metadata": {},
     "source": [
      "Let's start with a simple example: An object moves 1 meter in 1 second. Calculate the velocity:"
     ]
    },
    {
     "cell_type": "code",
     "collapsed": false,
     "input": [
      "d = 1 m\n",
      "t = 1 s\n",
      "v = d / t\n",
      "print(\"Velocity: %s\" % v)"
     ],
     "language": "python",
     "metadata": {
      "run_control": {
       "breakpoint": false
      }
     },
     "outputs": [
      {
       "output_type": "stream",
       "stream": "stdout",
       "text": [
        "Velocity: 1.00 m/s\n"
       ]
      }
     ],
     "prompt_number": 65
    },
    {
     "cell_type": "markdown",
     "metadata": {},
     "source": [
      "You can also use the IPython notebook display system to show the value of `v`:"
     ]
    },
    {
     "cell_type": "code",
     "collapsed": false,
     "input": [
      "v"
     ],
     "language": "python",
     "metadata": {
      "run_control": {
       "breakpoint": false
      }
     },
     "outputs": [
      {
       "latex": [
        "1.00 $m/s$"
       ],
       "metadata": {},
       "output_type": "pyout",
       "prompt_number": 66,
       "text": [
        "1.00 m/s"
       ]
      }
     ],
     "prompt_number": 66
    },
    {
     "cell_type": "markdown",
     "metadata": {},
     "source": [
      "The value and unit can be accessed using the corresponing properties:"
     ]
    },
    {
     "cell_type": "code",
     "collapsed": false,
     "input": [
      "t.value, t.unit"
     ],
     "language": "python",
     "metadata": {
      "run_control": {
       "breakpoint": false
      }
     },
     "outputs": [
      {
       "metadata": {},
       "output_type": "pyout",
       "prompt_number": 67,
       "text": [
        "(1.0, <PhysicalUnit s>)"
       ]
      }
     ],
     "prompt_number": 67
    },
    {
     "cell_type": "markdown",
     "metadata": {},
     "source": [
      "Another example:"
     ]
    },
    {
     "cell_type": "code",
     "collapsed": false,
     "input": [
      "d = 333 m\n",
      "v = 50 km / (1s)\n",
      "t = d/v\n",
      "t"
     ],
     "language": "python",
     "metadata": {
      "run_control": {
       "breakpoint": false
      }
     },
     "outputs": [
      {
       "latex": [
        "6.66 $s*m/km$"
       ],
       "metadata": {},
       "output_type": "pyout",
       "prompt_number": 57,
       "text": [
        "6.66 s*m/km"
       ]
      }
     ],
     "prompt_number": 57
    },
    {
     "cell_type": "markdown",
     "metadata": {},
     "source": [
      "The result does not simplify the units automatically. This can be achieved this way:"
     ]
    },
    {
     "cell_type": "code",
     "collapsed": false,
     "input": [
      "t.base"
     ],
     "language": "python",
     "metadata": {
      "run_control": {
       "breakpoint": false
      }
     },
     "outputs": [
      {
       "latex": [
        "0.01 $s$"
       ],
       "metadata": {},
       "output_type": "pyout",
       "prompt_number": 17,
       "text": [
        "0.01 s"
       ]
      }
     ],
     "prompt_number": 17
    },
    {
     "cell_type": "markdown",
     "metadata": {},
     "source": [
      "To achieve a desired unit scaling, use the `.to()` function:"
     ]
    },
    {
     "cell_type": "code",
     "collapsed": false,
     "input": [
      "t.to('ms')"
     ],
     "language": "python",
     "metadata": {
      "run_control": {
       "breakpoint": false
      }
     },
     "outputs": [
      {
       "latex": [
        "6.66 $ms$"
       ],
       "metadata": {},
       "output_type": "pyout",
       "prompt_number": 19,
       "text": [
        "6.66 ms"
       ]
      }
     ],
     "prompt_number": 19
    },
    {
     "cell_type": "markdown",
     "metadata": {},
     "source": [
      "All units allow scaling prefixes:"
     ]
    },
    {
     "cell_type": "code",
     "collapsed": false,
     "input": [
      "d = 1 nm ; print d\n",
      "d = 1 mm ; print d\n",
      "d = 1 cm ; print d\n",
      "d = 1 km ; print d"
     ],
     "language": "python",
     "metadata": {
      "run_control": {
       "breakpoint": false
      }
     },
     "outputs": [
      {
       "output_type": "stream",
       "stream": "stdout",
       "text": [
        "1.00 nm\n",
        "1.00 mm\n",
        "1.00 cm\n",
        "1.00 km\n"
       ]
      }
     ],
     "prompt_number": 25
    },
    {
     "cell_type": "markdown",
     "metadata": {},
     "source": [
      "Units can be mixed with numpy arrays. \n",
      "\n",
      "TODO: The current solution requires using Q(...) to convert back to a numpy array with `dtype=float`"
     ]
    },
    {
     "cell_type": "code",
     "collapsed": false,
     "input": [
      "t = linspace(0,10, 10) * 1 ms\n",
      "f = 100 Hz\n",
      "u = sin(2*pi*Q(f*t)) * 1 V\n",
      "t,u"
     ],
     "language": "python",
     "metadata": {
      "run_control": {
       "breakpoint": false
      }
     },
     "outputs": [
      {
       "metadata": {},
       "output_type": "pyout",
       "prompt_number": 75,
       "text": [
        "(array([0.00 ms, 1.11 ms, 2.22 ms, 3.33 ms, 4.44 ms, 5.56 ms, 6.67 ms,\n",
        "        7.78 ms, 8.89 ms, 10.00 ms], dtype=object),\n",
        " array([0.00 V, 0.64 V, 0.98 V, 0.87 V, 0.34 V, -0.34 V, -0.87 V, -0.98 V,\n",
        "        -0.64 V, -0.00 V], dtype=object))"
       ]
      }
     ],
     "prompt_number": 75
    },
    {
     "cell_type": "markdown",
     "metadata": {},
     "source": [
      "Also, currently there is no way to prevent `t` from being converted to the base unit of `s` instead of staying with `ms`:"
     ]
    },
    {
     "cell_type": "code",
     "collapsed": false,
     "input": [
      "plot(t,u);"
     ],
     "language": "python",
     "metadata": {
      "run_control": {
       "breakpoint": false
      }
     },
     "outputs": [
      {
       "metadata": {},
       "output_type": "display_data",
       "png": "[encoded data removed]",
       "text": [
        "<matplotlib.figure.Figure at 0x8b58fd0>"
       ]
      }
     ],
     "prompt_number": 76
    }
   ],
   "metadata": {}
  }
 ]
}